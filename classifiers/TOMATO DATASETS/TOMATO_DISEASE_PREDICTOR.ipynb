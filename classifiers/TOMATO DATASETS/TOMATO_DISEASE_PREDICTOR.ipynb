{
 "cells": [
  {
   "cell_type": "code",
   "execution_count": 1,
   "metadata": {},
   "outputs": [],
   "source": [
    "import numpy as np\n",
    "import tensorflow as tf\n",
    "import matplotlib.pyplot as plt\n",
    "from keras.models import load_model,Model\n",
    "import random\n",
    "import os"
   ]
  },
  {
   "cell_type": "code",
   "execution_count": 2,
   "metadata": {},
   "outputs": [],
   "source": [
    "IMGSZ = 256\n",
    "B_SIZE = 32\n",
    "CHANNEL_SIZE = 3\n",
    "EPOCHS = 10"
   ]
  },
  {
   "cell_type": "code",
   "execution_count": 3,
   "metadata": {},
   "outputs": [
    {
     "name": "stdout",
     "output_type": "stream",
     "text": [
      "Found 8121 files belonging to 10 classes.\n"
     ]
    }
   ],
   "source": [
    "datasets = tf.keras.preprocessing.image_dataset_from_directory(\n",
    "    \"TOMATO DATASETS\",\n",
    "    image_size=(IMGSZ,IMGSZ),\n",
    "    shuffle=True,\n",
    "    batch_size=B_SIZE\n",
    ")"
   ]
  },
  {
   "cell_type": "code",
   "execution_count": 4,
   "metadata": {},
   "outputs": [
    {
     "data": {
      "text/plain": [
       "['Tomato_Bacterial_spot',\n",
       " 'Tomato_Early_blight',\n",
       " 'Tomato_Late_blight',\n",
       " 'Tomato_Leaf_Mold',\n",
       " 'Tomato_Septoria_leaf_spot',\n",
       " 'Tomato_Spider_mites_Two_spotted_spider_mite',\n",
       " 'Tomato__Target_Spot',\n",
       " 'Tomato__Tomato_YellowLeaf__Curl_Virus',\n",
       " 'Tomato__Tomato_mosaic_virus',\n",
       " 'Tomato_healthy']"
      ]
     },
     "execution_count": 4,
     "metadata": {},
     "output_type": "execute_result"
    }
   ],
   "source": [
    "CLASS_NAMES = datasets.class_names\n",
    "NUM_CLASSES = len(CLASS_NAMES)\n",
    "CLASS_NAMES"
   ]
  },
  {
   "cell_type": "code",
   "execution_count": 5,
   "metadata": {},
   "outputs": [
    {
     "name": "stdout",
     "output_type": "stream",
     "text": [
      "WARNING:tensorflow:Using a while_loop for converting RngReadAndSkip cause there is no registered converter for this op.\n",
      "WARNING:tensorflow:Using a while_loop for converting Bitcast cause there is no registered converter for this op.\n",
      "WARNING:tensorflow:Using a while_loop for converting Bitcast cause there is no registered converter for this op.\n",
      "WARNING:tensorflow:Using a while_loop for converting StatelessRandomUniformV2 cause there is no registered converter for this op.\n",
      "WARNING:tensorflow:Using a while_loop for converting ImageProjectiveTransformV3 cause there is no registered converter for this op.\n",
      "WARNING:tensorflow:Using a while_loop for converting RngReadAndSkip cause there is no registered converter for this op.\n",
      "WARNING:tensorflow:Using a while_loop for converting Bitcast cause there is no registered converter for this op.\n",
      "WARNING:tensorflow:Using a while_loop for converting Bitcast cause there is no registered converter for this op.\n",
      "WARNING:tensorflow:Using a while_loop for converting StatelessRandomUniformV2 cause there is no registered converter for this op.\n",
      "WARNING:tensorflow:Using a while_loop for converting ImageProjectiveTransformV3 cause there is no registered converter for this op.\n"
     ]
    }
   ],
   "source": [
    "base_dir = os.getcwd()\n",
    "model_path = os.path.join(base_dir, 'models', '1')\n",
    "model_PRE = load_model(model_path)\n",
    "model_PRE.trainable = False"
   ]
  },
  {
   "cell_type": "code",
   "execution_count": 6,
   "metadata": {},
   "outputs": [
    {
     "name": "stdout",
     "output_type": "stream",
     "text": [
      "Model: \"sequential_6\"\n",
      "_________________________________________________________________\n",
      " Layer (type)                Output Shape              Param #   \n",
      "=================================================================\n",
      " sequential (Sequential)     (None, 256, 256, 3)       0         \n",
      "                                                                 \n",
      " sequential_2 (Sequential)   (None, 256, 256, 3)       0         \n",
      "                                                                 \n",
      " conv2d_18 (Conv2D)          (None, 254, 254, 32)      896       \n",
      "                                                                 \n",
      " max_pooling2d_18 (MaxPoolin  (None, 127, 127, 32)     0         \n",
      " g2D)                                                            \n",
      "                                                                 \n",
      " conv2d_19 (Conv2D)          (None, 125, 125, 64)      18496     \n",
      "                                                                 \n",
      " max_pooling2d_19 (MaxPoolin  (None, 62, 62, 64)       0         \n",
      " g2D)                                                            \n",
      "                                                                 \n",
      " conv2d_20 (Conv2D)          (None, 60, 60, 64)        36928     \n",
      "                                                                 \n",
      " max_pooling2d_20 (MaxPoolin  (None, 30, 30, 64)       0         \n",
      " g2D)                                                            \n",
      "                                                                 \n",
      " conv2d_21 (Conv2D)          (None, 28, 28, 64)        36928     \n",
      "                                                                 \n",
      " max_pooling2d_21 (MaxPoolin  (None, 14, 14, 64)       0         \n",
      " g2D)                                                            \n",
      "                                                                 \n",
      " conv2d_22 (Conv2D)          (None, 12, 12, 64)        36928     \n",
      "                                                                 \n",
      " max_pooling2d_22 (MaxPoolin  (None, 6, 6, 64)         0         \n",
      " g2D)                                                            \n",
      "                                                                 \n",
      " conv2d_23 (Conv2D)          (None, 4, 4, 64)          36928     \n",
      "                                                                 \n",
      " max_pooling2d_23 (MaxPoolin  (None, 2, 2, 64)         0         \n",
      " g2D)                                                            \n",
      "                                                                 \n",
      " flatten_3 (Flatten)         (None, 256)               0         \n",
      "                                                                 \n",
      " dense_6 (Dense)             (None, 64)                16448     \n",
      "                                                                 \n",
      " dense_7 (Dense)             (None, 3)                 195       \n",
      "                                                                 \n",
      "=================================================================\n",
      "Total params: 183,747\n",
      "Trainable params: 0\n",
      "Non-trainable params: 183,747\n",
      "_________________________________________________________________\n"
     ]
    }
   ],
   "source": [
    "model_PRE.summary()"
   ]
  },
  {
   "cell_type": "code",
   "execution_count": 7,
   "metadata": {},
   "outputs": [],
   "source": [
    "# for image_batch, label_batch in datasets.take(1):\n",
    "#     plt.imshow(image_batch[0].numpy().astype(\"uint8\"))\n",
    "#     plt.title(CLASS_NAMES[label_batch[0]])"
   ]
  },
  {
   "cell_type": "code",
   "execution_count": 8,
   "metadata": {},
   "outputs": [],
   "source": [
    "# for image_batch, label_batch in datasets.take(1):\n",
    "#     plt.imshow(image_batch[0].numpy().astype(\"uint8\"))\n",
    "#     plt.title(CLASS_NAMES[label_batch[0]])"
   ]
  },
  {
   "cell_type": "code",
   "execution_count": 9,
   "metadata": {},
   "outputs": [],
   "source": [
    "# for image_batch, label_batch in datasets.take(1):\n",
    "#     plt.imshow(image_batch[0].numpy().astype(\"uint8\"))\n",
    "#     plt.title(CLASS_NAMES[label_batch[0]])"
   ]
  },
  {
   "cell_type": "code",
   "execution_count": 10,
   "metadata": {},
   "outputs": [],
   "source": [
    "# for image_batch, label_batch in datasets.take(1):\n",
    "#     plt.imshow(image_batch[0].numpy().astype(\"uint8\"))\n",
    "#     plt.title(CLASS_NAMES[label_batch[0]])"
   ]
  },
  {
   "cell_type": "code",
   "execution_count": 11,
   "metadata": {},
   "outputs": [],
   "source": [
    "# for image_batch, label_batch in datasets.take(1):\n",
    "#     plt.imshow(image_batch[0].numpy().astype(\"uint8\"))\n",
    "#     plt.title(CLASS_NAMES[label_batch[0]])"
   ]
  },
  {
   "cell_type": "code",
   "execution_count": 12,
   "metadata": {},
   "outputs": [],
   "source": [
    "# for image_batch, label_batch in datasets.take(1):\n",
    "#     plt.imshow(image_batch[0].numpy().astype(\"uint8\"))\n",
    "#     plt.title(CLASS_NAMES[label_batch[0]])"
   ]
  },
  {
   "cell_type": "code",
   "execution_count": 13,
   "metadata": {},
   "outputs": [],
   "source": [
    "# for image_batch, label_batch in datasets.take(1):\n",
    "#     plt.imshow(image_batch[0].numpy().astype(\"uint8\"))\n",
    "#     plt.title(CLASS_NAMES[label_batch[0]])"
   ]
  },
  {
   "cell_type": "code",
   "execution_count": 14,
   "metadata": {},
   "outputs": [],
   "source": [
    "# for image_batch, label_batch in datasets.take(1):\n",
    "#     plt.imshow(image_batch[0].numpy().astype(\"uint8\"))\n",
    "#     plt.title(CLASS_NAMES[label_batch[0]])"
   ]
  },
  {
   "cell_type": "code",
   "execution_count": 15,
   "metadata": {},
   "outputs": [],
   "source": [
    "# for image_batch, label_batch in datasets.take(1):\n",
    "#     plt.imshow(image_batch[0].numpy().astype(\"uint8\"))\n",
    "#     plt.title(CLASS_NAMES[label_batch[0]])"
   ]
  },
  {
   "cell_type": "code",
   "execution_count": 16,
   "metadata": {},
   "outputs": [],
   "source": [
    "# for image_batch, label_batch in datasets.take(1):\n",
    "#     plt.imshow(image_batch[0].numpy().astype(\"uint8\"))\n",
    "#     plt.title(CLASS_NAMES[label_batch[0]])"
   ]
  },
  {
   "cell_type": "code",
   "execution_count": 17,
   "metadata": {},
   "outputs": [
    {
     "name": "stdout",
     "output_type": "stream",
     "text": [
      "LENGTH OF TRAIN DATASET :  203\n",
      "LENGTH OF TEST DATASET :  26\n",
      "LENGTH OF EVAL DATASET :  25\n"
     ]
    }
   ],
   "source": [
    "def get_train_test_eval_dataset(datasets, train_size=0.8, val_size=0.1, test_size=0.1, shuffle=True, shuffle_size=10000):\n",
    "    assert (train_size + test_size + val_size) == 1\n",
    "\n",
    "    ds_size = len(datasets)\n",
    "\n",
    "    if shuffle:\n",
    "        datasets = datasets.shuffle(shuffle_size, seed=12)\n",
    "\n",
    "    train_size = int(train_size * ds_size)\n",
    "    val_size = int(val_size * ds_size)\n",
    "\n",
    "    train_dataset = datasets.take(train_size)\n",
    "    val_dataset = datasets.skip(train_size).take(val_size)\n",
    "    test_dataset = datasets.skip(train_size).skip(val_size)\n",
    "\n",
    "    return train_dataset, val_dataset, test_dataset\n",
    "\n",
    "train_dataset, val_dataset, test_dataset = get_train_test_eval_dataset(datasets)\n",
    "\n",
    "print(\"LENGTH OF TRAIN DATASET : \",len(train_dataset))\n",
    "print(\"LENGTH OF TEST DATASET : \",len(test_dataset))\n",
    "print(\"LENGTH OF EVAL DATASET : \",len(val_dataset))"
   ]
  },
  {
   "cell_type": "code",
   "execution_count": 18,
   "metadata": {},
   "outputs": [
    {
     "name": "stdout",
     "output_type": "stream",
     "text": [
      "WARNING:tensorflow:Using a while_loop for converting RngReadAndSkip cause there is no registered converter for this op.\n",
      "WARNING:tensorflow:Using a while_loop for converting Bitcast cause there is no registered converter for this op.\n",
      "WARNING:tensorflow:Using a while_loop for converting Bitcast cause there is no registered converter for this op.\n",
      "WARNING:tensorflow:Using a while_loop for converting StatelessRandomUniformV2 cause there is no registered converter for this op.\n",
      "WARNING:tensorflow:Using a while_loop for converting ImageProjectiveTransformV3 cause there is no registered converter for this op.\n"
     ]
    }
   ],
   "source": [
    "model_partial = Model(\n",
    "    inputs=model_PRE.input,\n",
    "    outputs=model_PRE.get_layer(\"dense_6\").output\n",
    ")\n",
    "\n",
    "tomato_model = tf.keras.Sequential([\n",
    "    model_partial,\n",
    "    tf.keras.layers.Dense(NUM_CLASSES, activation=\"softmax\")\n",
    "])"
   ]
  },
  {
   "cell_type": "code",
   "execution_count": 19,
   "metadata": {},
   "outputs": [],
   "source": [
    "tomato_model.compile(\n",
    "    optimizer=\"adam\",\n",
    "    loss=tf.keras.losses.SparseCategoricalCrossentropy(from_logits=False),\n",
    "    metrics=['accuracy']\n",
    ")"
   ]
  },
  {
   "cell_type": "code",
   "execution_count": 20,
   "metadata": {},
   "outputs": [],
   "source": [
    "# resize_rescale = tf.keras.Sequential([\n",
    "#     tf.keras.layers.experimental.preprocessing.Resizing(IMGSZ,IMGSZ),\n",
    "#     tf.keras.layers.experimental.preprocessing.Rescaling(1.0/255),\n",
    "# ])\n",
    "\n",
    "# data_augmentation = tf.keras.Sequential([\n",
    "#     tf.keras.layers.experimental.preprocessing.RandomFlip(\"horizontal_and_vertical\"),\n",
    "#     tf.keras.layers.experimental.preprocessing.RandomRotation(0.2),\n",
    "# ])\n",
    "\n",
    "# tomato_model = tf.keras.Sequential([\n",
    "#     resize_rescale,\n",
    "#     data_augmentation,\n",
    "#     tf.keras.layers.Conv2D(32,(3,3),activation=\"relu\",input_shape = (B_SIZE,IMGSZ,IMGSZ,CHANNEL_SIZE)),\n",
    "#     tf.keras.layers.MaxPool2D((2,2)),\n",
    "#     tf.keras.layers.Conv2D(64,(3,3),activation=\"relu\"),\n",
    "#     tf.keras.layers.MaxPool2D((2,2)),\n",
    "#     tf.keras.layers.Conv2D(64,(3,3),activation=\"relu\"),\n",
    "#     tf.keras.layers.MaxPool2D((2,2)),\n",
    "#     tf.keras.layers.Conv2D(64,(3,3),activation=\"relu\"),\n",
    "#     tf.keras.layers.MaxPool2D((2,2)),\n",
    "#     tf.keras.layers.Conv2D(64,(3,3),activation=\"relu\"),\n",
    "#     tf.keras.layers.MaxPool2D((2,2)),\n",
    "#     tf.keras.layers.Conv2D(64,(3,3),activation=\"relu\"),\n",
    "#     tf.keras.layers.MaxPool2D((2,2)),\n",
    "#     tf.keras.layers.Flatten(),\n",
    "#     tf.keras.layers.Dense(64,activation=\"relu\"),\n",
    "#     tf.keras.layers.Dense(10,activation=\"softmax\")\n",
    "\n",
    "# ])\n",
    "\n",
    "# tomato_model.build(input_shape=(B_SIZE,IMGSZ,IMGSZ,CHANNEL_SIZE))\n",
    "# tomato_model.summary()\n",
    "\n",
    "# tomato_model.compile(\n",
    "#     optimizer=\"adam\",\n",
    "#     loss=tf.keras.losses.SparseCategoricalCrossentropy(from_logits=False),\n",
    "#     metrics=['accuracy']\n",
    "# )"
   ]
  },
  {
   "cell_type": "code",
   "execution_count": 55,
   "metadata": {},
   "outputs": [
    {
     "name": "stdout",
     "output_type": "stream",
     "text": [
      "Epoch 1/10\n",
      "WARNING:tensorflow:Using a while_loop for converting RngReadAndSkip cause there is no registered converter for this op.\n",
      "WARNING:tensorflow:Using a while_loop for converting Bitcast cause there is no registered converter for this op.\n",
      "WARNING:tensorflow:Using a while_loop for converting Bitcast cause there is no registered converter for this op.\n",
      "WARNING:tensorflow:Using a while_loop for converting StatelessRandomUniformV2 cause there is no registered converter for this op.\n",
      "WARNING:tensorflow:Using a while_loop for converting ImageProjectiveTransformV3 cause there is no registered converter for this op.\n",
      "WARNING:tensorflow:Using a while_loop for converting RngReadAndSkip cause there is no registered converter for this op.\n",
      "WARNING:tensorflow:Using a while_loop for converting Bitcast cause there is no registered converter for this op.\n",
      "WARNING:tensorflow:Using a while_loop for converting Bitcast cause there is no registered converter for this op.\n",
      "WARNING:tensorflow:Using a while_loop for converting StatelessRandomUniformV2 cause there is no registered converter for this op.\n",
      "WARNING:tensorflow:Using a while_loop for converting ImageProjectiveTransformV3 cause there is no registered converter for this op.\n",
      "203/203 [==============================] - 183s 764ms/step - loss: 2.4344 - accuracy: 0.1530 - val_loss: 1.9871 - val_accuracy: 0.2400\n",
      "Epoch 2/10\n",
      "203/203 [==============================] - 183s 828ms/step - loss: 1.9560 - accuracy: 0.2547 - val_loss: 1.8627 - val_accuracy: 0.2850\n",
      "Epoch 3/10\n",
      "203/203 [==============================] - 233s 1s/step - loss: 1.8561 - accuracy: 0.3118 - val_loss: 1.8207 - val_accuracy: 0.3000\n",
      "Epoch 4/10\n",
      "203/203 [==============================] - 164s 733ms/step - loss: 1.7896 - accuracy: 0.3396 - val_loss: 1.7953 - val_accuracy: 0.3275\n",
      "Epoch 5/10\n",
      "203/203 [==============================] - 227s 1s/step - loss: 1.7524 - accuracy: 0.3631 - val_loss: 1.7471 - val_accuracy: 0.3725\n",
      "Epoch 6/10\n",
      "203/203 [==============================] - 259s 1s/step - loss: 1.7112 - accuracy: 0.3805 - val_loss: 1.6377 - val_accuracy: 0.3925\n",
      "Epoch 7/10\n",
      "203/203 [==============================] - 263s 1s/step - loss: 1.6752 - accuracy: 0.4018 - val_loss: 1.7278 - val_accuracy: 0.3775\n",
      "Epoch 8/10\n",
      "203/203 [==============================] - 257s 1s/step - loss: 1.6491 - accuracy: 0.4158 - val_loss: 1.6289 - val_accuracy: 0.4263\n",
      "Epoch 9/10\n",
      " 54/203 [======>.......................] - ETA: 2:50 - loss: 1.6209 - accuracy: 0.4340"
     ]
    }
   ],
   "source": [
    "history_rec = tomato_model.fit(\n",
    "    train_dataset,\n",
    "    epochs=EPOCHS,\n",
    "    batch_size=B_SIZE,\n",
    "    verbose=1,\n",
    "    validation_data=val_dataset\n",
    ")\n",
    "\n",
    "# history_rec = tomato_model.fit(\n",
    "#     train_dataset,\n",
    "#     validation_data=val_dataset,\n",
    "#     epochs=EPOCHS\n",
    "# )"
   ]
  },
  {
   "cell_type": "code",
   "execution_count": 56,
   "metadata": {},
   "outputs": [],
   "source": [
    "accuracy_pm = history_rec.history['accuracy']\n",
    "loss_pm = history_rec.history['loss']\n",
    "val_accuracy_pm = history_rec.history['val_accuracy']\n",
    "val_loss_pm = history_rec.history['val_loss']"
   ]
  },
  {
   "cell_type": "code",
   "execution_count": 57,
   "metadata": {},
   "outputs": [],
   "source": [
    "plt.figure(figsize=(8, 8))\n",
    "plt.subplot(1, 2, 1)\n",
    "plt.plot(range(50), accuracy_pm, label='Training Accuracy')\n",
    "plt.plot(range(50), val_accuracy_pm, label='Validation Accuracy')\n",
    "plt.legend(loc='lower right')\n",
    "plt.title('Training and Validation Accuracy')\n",
    "\n",
    "plt.subplot(1, 2, 2)\n",
    "plt.plot(range(50), loss_pm, label='Training Loss')\n",
    "plt.plot(range(50), val_loss_pm, label='Validation Loss')\n",
    "plt.legend(loc='upper right')\n",
    "plt.title('Training and Validation Loss')\n",
    "plt.show()"
   ]
  },
  {
   "cell_type": "code",
   "execution_count": 58,
   "metadata": {},
   "outputs": [],
   "source": [
    "tomato_model.evaluate(test_dataset)"
   ]
  },
  {
   "cell_type": "code",
   "execution_count": 59,
   "metadata": {},
   "outputs": [],
   "source": [
    "plt.figure(figsize=(15, 15))\n",
    "for images, labels in test_dataset.take(1):\n",
    "    for i in range(9):\n",
    "        ax = plt.subplot(3, 3, i + 1)\n",
    "        IMG = images[i].numpy()\n",
    "        plt.imshow(IMG.astype(\"uint8\"))\n",
    "\n",
    "        img_array = tf.expand_dims(IMG, 0)\n",
    "\n",
    "        predictions = tomato_model.predict(img_array)\n",
    "\n",
    "        predicted_class = CLASS_NAMES[np.argmax(predictions[0])]\n",
    "        confidence = round(100 * (np.max(predictions[0])), 2)\n",
    "        actual_class = CLASS_NAMES[labels[i]] \n",
    "        \n",
    "        plt.title(f\"Actual: {actual_class},\\n Predicted: {predicted_class}.\\n Confidence: {confidence}%\")\n",
    "        plt.axis(\"off\")"
   ]
  },
  {
   "cell_type": "code",
   "execution_count": 60,
   "metadata": {},
   "outputs": [],
   "source": [
    "model_version = 10\n",
    "tomato_model.save(f\"./models/{model_version}\")"
   ]
  }
 ],
 "metadata": {
  "kernelspec": {
   "display_name": "Python 3",
   "language": "python",
   "name": "python3"
  },
  "language_info": {
   "codemirror_mode": {
    "name": "ipython",
    "version": 3
   },
   "file_extension": ".py",
   "mimetype": "text/x-python",
   "name": "python",
   "nbconvert_exporter": "python",
   "pygments_lexer": "ipython3",
   "version": "3.10.0"
  }
 },
 "nbformat": 4,
 "nbformat_minor": 2
}
